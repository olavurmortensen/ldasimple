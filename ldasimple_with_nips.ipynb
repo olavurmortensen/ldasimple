{
 "cells": [
  {
   "cell_type": "code",
   "execution_count": 1,
   "metadata": {
    "collapsed": false
   },
   "outputs": [
    {
     "data": {
      "application/javascript": [
       "// Run for table of contents.\n",
       "$.getScript('https://kmahelona.github.io/ipython_notebook_goodies/ipython_notebook_toc.js')\n",
       "\n",
       "// https://github.com/kmahelona/ipython_notebook_goodies"
      ],
      "text/plain": [
       "<IPython.core.display.Javascript object>"
      ]
     },
     "metadata": {},
     "output_type": "display_data"
    }
   ],
   "source": [
    "%%javascript\n",
    "// Run for table of contents.\n",
    "$.getScript('https://kmahelona.github.io/ipython_notebook_goodies/ipython_notebook_toc.js')\n",
    "\n",
    "// https://github.com/kmahelona/ipython_notebook_goodies"
   ]
  },
  {
   "cell_type": "markdown",
   "metadata": {},
   "source": [
    "# Testing \"ldasimple\" with NIPS data\n",
    "\n",
    "<h2 id=\"tocheading\">Table of Contents</h2>\n",
    "<div id=\"toc\"></div>\n"
   ]
  },
  {
   "cell_type": "code",
   "execution_count": 22,
   "metadata": {
    "collapsed": false
   },
   "outputs": [],
   "source": [
    "import numpy as np\n",
    "import matplotlib\n",
    "import matplotlib.pyplot as plt\n",
    "from nltk.tokenize import RegexpTokenizer\n",
    "from nltk.stem.wordnet import WordNetLemmatizer\n",
    "import gensim\n",
    "from gensim.models import Phrases\n",
    "from gensim.corpora import Dictionary\n",
    "from imp import reload\n",
    "\n",
    "import logging\n",
    "\n",
    "import ldasimple\n",
    "from ldasimple import LdaSimple\n",
    "\n",
    "from gensim.models import LdaModel\n",
    "\n",
    "%matplotlib inline"
   ]
  },
  {
   "cell_type": "code",
   "execution_count": 3,
   "metadata": {
    "collapsed": false
   },
   "outputs": [],
   "source": [
    "# Configure logging.\n",
    "logger = logging.getLogger()\n",
    "fhandler = logging.FileHandler(filename='log_files/log.log', mode='a')\n",
    "formatter = logging.Formatter('%(asctime)s - %(name)s - %(levelname)s - %(message)s')\n",
    "fhandler.setFormatter(formatter)\n",
    "logger.addHandler(fhandler)\n",
    "logger.setLevel(logging.DEBUG)"
   ]
  },
  {
   "cell_type": "markdown",
   "metadata": {},
   "source": [
    "## Load and pre-process data"
   ]
  },
  {
   "cell_type": "code",
   "execution_count": 4,
   "metadata": {
    "collapsed": false
   },
   "outputs": [],
   "source": [
    "import os\n",
    "import re\n",
    "\n",
    "# Folder containing all NIPS papers.\n",
    "data_dir = '../data/nipstxt/'\n",
    "\n",
    "# Folders containin individual NIPS papers.\n",
    "#yrs = ['00', '01', '02', '03', '04', '05', '06', '07', '08', '09', '10', '11', '12']\n",
    "yrs = ['00']\n",
    "dirs = ['nips' + yr for yr in yrs]\n",
    "\n",
    "# Get all document texts and their corresponding IDs.\n",
    "docs = []\n",
    "doc_ids = []\n",
    "for yr_dir in dirs:\n",
    "    files = os.listdir(data_dir + yr_dir)  # List of filenames.\n",
    "    for filen in files:\n",
    "        # Get document ID.\n",
    "        (idx1, idx2) = re.search('[0-9]+', filen).span()  # Matches the indexes of the start end end of the ID.\n",
    "        doc_ids.append(yr_dir[4:] + '_' + str(int(filen[idx1:idx2])))\n",
    "        \n",
    "        # Read document text.\n",
    "        # Note: ignoring characters that cause encoding errors.\n",
    "        with open(data_dir + yr_dir + '/' + filen, errors='ignore', encoding='utf-8') as fid:\n",
    "            txt = fid.read()\n",
    "        docs.append(txt)"
   ]
  },
  {
   "cell_type": "code",
   "execution_count": 5,
   "metadata": {
    "collapsed": false
   },
   "outputs": [],
   "source": [
    "filenames = [data_dir + 'idx/a' + yr + '.txt' for yr in yrs]  # Using the years defined in previous cell.\n",
    "\n",
    "# Get all author names and their corresponding document IDs.\n",
    "authors_names = []\n",
    "author2doc = {}\n",
    "author_id = 0\n",
    "for yr in yrs:\n",
    "    filename = data_dir + 'idx/a' + yr + '.txt'\n",
    "    for line in open(filename, errors='ignore', encoding='utf-8'):\n",
    "        contents = re.split(',', line)\n",
    "        author_name = (contents[1] + contents[0]).strip()\n",
    "        ids = [c.strip() for c in contents[2:]]\n",
    "        authors_names.append(author_name)\n",
    "        author2doc[author_id] = [yr + '_' + id for id in ids]\n",
    "        author_id += 1"
   ]
  },
  {
   "cell_type": "code",
   "execution_count": 6,
   "metadata": {
    "collapsed": false
   },
   "outputs": [],
   "source": [
    "# Tokenize the documents.\n",
    "\n",
    "# Split the documents into tokens.\n",
    "tokenizer = RegexpTokenizer(r'\\w+')\n",
    "for idx in range(len(docs)):\n",
    "    docs[idx] = docs[idx].lower()  # Convert to lowercase.\n",
    "    docs[idx] = tokenizer.tokenize(docs[idx])  # Split into words.\n",
    "\n",
    "# Remove numbers, but not words that contain numbers.\n",
    "docs = [[token for token in doc if not token.isnumeric()] for doc in docs]\n",
    "\n",
    "# Remove words that are only one character.\n",
    "docs = [[token for token in doc if len(token) > 1] for doc in docs]"
   ]
  },
  {
   "cell_type": "code",
   "execution_count": 7,
   "metadata": {
    "collapsed": true
   },
   "outputs": [],
   "source": [
    "# Lemmatize the documents.\n",
    "\n",
    "# Lemmatize all words in documents.\n",
    "lemmatizer = WordNetLemmatizer()\n",
    "docs = [[lemmatizer.lemmatize(token) for token in doc] for doc in docs]"
   ]
  },
  {
   "cell_type": "code",
   "execution_count": 8,
   "metadata": {
    "collapsed": true
   },
   "outputs": [],
   "source": [
    "# Compute bigrams.\n",
    "\n",
    "# Add bigrams and trigrams to docs (only ones that appear 20 times or more).\n",
    "bigram = Phrases(docs, min_count=20)\n",
    "for idx in range(len(docs)):\n",
    "    for token in bigram[docs[idx]]:\n",
    "        if '_' in token:\n",
    "            # Token is a bigram, add to document.\n",
    "            docs[idx].append(token)"
   ]
  },
  {
   "cell_type": "code",
   "execution_count": 9,
   "metadata": {
    "collapsed": true
   },
   "outputs": [],
   "source": [
    "# Create a dictionary representation of the documents.\n",
    "dictionary = Dictionary(docs)"
   ]
  },
  {
   "cell_type": "code",
   "execution_count": 10,
   "metadata": {
    "collapsed": false
   },
   "outputs": [
    {
     "data": {
      "image/png": "[encoded data removed]",
      "text/plain": [
       "<matplotlib.figure.Figure at 0x7f546f8e8a90>"
      ]
     },
     "metadata": {},
     "output_type": "display_data"
    }
   ],
   "source": [
    "# Frequency distribution of words.\n",
    "\n",
    "one_doc = []\n",
    "for doc in docs:\n",
    "    one_doc.extend(doc)\n",
    "\n",
    "bow = dictionary.doc2bow(one_doc)\n",
    "word_freq = [cnt for _, cnt in bow]\n",
    "\n",
    "plt.plot(sorted(word_freq))\n",
    "plt.xlabel('Words')\n",
    "plt.ylabel('#Occurences')\n",
    "plt.title('Frequency distribution of words.\\nPower-law behaviour.')\n",
    "plt.show()"
   ]
  },
  {
   "cell_type": "code",
   "execution_count": 11,
   "metadata": {
    "collapsed": true
   },
   "outputs": [],
   "source": [
    "# Remove rare and common tokens.\n",
    "\n",
    "# Filter out words that occur too frequently or too rarely.\n",
    "max_freq = 0.5\n",
    "min_wordcount = 20\n",
    "dictionary.filter_extremes(no_below=min_wordcount, no_above=max_freq)\n",
    "\n",
    "dict0 = dictionary[0]  # This sort of \"initializes\" dictionary.id2token."
   ]
  },
  {
   "cell_type": "code",
   "execution_count": 12,
   "metadata": {
    "collapsed": true
   },
   "outputs": [],
   "source": [
    "# Vectorize data.\n",
    "\n",
    "# Bag-of-words representation of the documents.\n",
    "corpus = [dictionary.doc2bow(doc) for doc in docs]"
   ]
  },
  {
   "cell_type": "code",
   "execution_count": 13,
   "metadata": {
    "collapsed": false
   },
   "outputs": [
    {
     "name": "stdout",
     "output_type": "stream",
     "text": [
      "Number of unique tokens: 681\n",
      "Number of documents: 90\n"
     ]
    }
   ],
   "source": [
    "print('Number of unique tokens: %d' % len(dictionary))\n",
    "print('Number of documents: %d' % len(corpus))"
   ]
  },
  {
   "cell_type": "code",
   "execution_count": 14,
   "metadata": {
    "collapsed": true
   },
   "outputs": [],
   "source": [
    "small_corpus = corpus[:10]"
   ]
  },
  {
   "cell_type": "code",
   "execution_count": 17,
   "metadata": {
    "collapsed": false
   },
   "outputs": [
    {
     "name": "stdout",
     "output_type": "stream",
     "text": [
      "phi is 10 x 681 x 10 (68100 elements)\n"
     ]
    }
   ],
   "source": [
    "print('phi is %d x %d x %d (%d elements)' %(len(small_corpus), len(dictionary.id2token), 10,\n",
    "                                            len(small_corpus) * len(dictionary.id2token) * 10))"
   ]
  },
  {
   "cell_type": "code",
   "execution_count": 38,
   "metadata": {
    "collapsed": false
   },
   "outputs": [],
   "source": [
    "reload(ldasimple)\n",
    "LdaSimple = ldasimple.LdaSimple"
   ]
  },
  {
   "cell_type": "code",
   "execution_count": null,
   "metadata": {
    "collapsed": false
   },
   "outputs": [
    {
     "name": "stdout",
     "output_type": "stream",
     "text": [
      "> /home/olavur/Dropbox/my_folder/workstuff/DTU/thesis/code/ldasimple.py(106)inference()\n",
      "-> for d, doc in enumerate(corpus):\n",
      "(Pdb) expElogtheta.sum(axis=1)\n",
      "array([ 0.59524318,  0.58671308,  0.57093558,  0.58692447,  0.61578166,\n",
      "        0.59713927,  0.58717339,  0.60300889,  0.58089955,  0.60207903])\n"
     ]
    }
   ],
   "source": [
    "model = LdaSimple(corpus=small_corpus, num_topics=10, id2word=dictionary.id2token,\n",
    "            threshold=0.001, iterations=10, alpha=None, eta=None,\n",
    "            eval_every=1, random_state=None)"
   ]
  },
  {
   "cell_type": "code",
   "execution_count": 37,
   "metadata": {
    "collapsed": false
   },
   "outputs": [
    {
     "data": {
      "text/plain": [
       "array([[ 0.5,  0.8,  1.1,  0.8,  0.3,  0.5,  0.8,  1.1,  0.6,  1.3],\n",
       "       [ 0.5,  0.8,  1.1,  0.8,  0.3,  0.5,  0.8,  1.1,  0.6,  1.3],\n",
       "       [ 0.5,  0.8,  1.1,  0.8,  0.3,  0.5,  0.8,  1.1,  0.6,  1.3],\n",
       "       [ 0.5,  0.8,  1.1,  0.8,  0.3,  0.5,  0.8,  1.1,  0.6,  1.3],\n",
       "       [ 0.5,  0.8,  1.1,  0.8,  0.3,  0.5,  0.8,  1.1,  0.6,  1.3],\n",
       "       [ 0.5,  0.8,  1.1,  0.8,  0.3,  0.5,  0.8,  1.1,  0.6,  1.3],\n",
       "       [ 0.5,  0.8,  1.1,  0.8,  0.3,  0.5,  0.8,  1.1,  0.6,  1.3],\n",
       "       [ 0.5,  0.8,  1.1,  0.8,  0.3,  0.5,  0.8,  1.1,  0.6,  1.3],\n",
       "       [ 0.5,  0.8,  1.1,  0.8,  0.3,  0.5,  0.8,  1.1,  0.6,  1.3],\n",
       "       [ 0.5,  0.8,  1.1,  0.8,  0.3,  0.5,  0.8,  1.1,  0.6,  1.3]])"
      ]
     },
     "execution_count": 37,
     "metadata": {},
     "output_type": "execute_result"
    }
   ],
   "source": [
    "model.var_lambda[:10, :10]"
   ]
  },
  {
   "cell_type": "code",
   "execution_count": 30,
   "metadata": {
    "collapsed": false
   },
   "outputs": [
    {
     "data": {
      "text/plain": [
       "[(0,\n",
       "  '0.017*image + 0.012*processor + 0.009*edge + 0.009*activation + 0.009*brain + 0.008*field + 0.008*cell + 0.008*map + 0.007*potential + 0.007*group'),\n",
       " (1,\n",
       "  '0.017*image + 0.012*processor + 0.009*edge + 0.009*activation + 0.009*brain + 0.008*field + 0.008*cell + 0.008*map + 0.007*potential + 0.007*group'),\n",
       " (2,\n",
       "  '0.017*image + 0.012*processor + 0.009*edge + 0.009*activation + 0.009*brain + 0.008*field + 0.008*cell + 0.008*map + 0.007*potential + 0.007*group'),\n",
       " (3,\n",
       "  '0.017*image + 0.012*processor + 0.009*edge + 0.009*activation + 0.009*brain + 0.008*field + 0.008*cell + 0.008*map + 0.007*potential + 0.007*group'),\n",
       " (4,\n",
       "  '0.017*image + 0.012*processor + 0.009*edge + 0.009*activation + 0.009*brain + 0.008*field + 0.008*cell + 0.008*map + 0.007*potential + 0.007*group'),\n",
       " (5,\n",
       "  '0.017*image + 0.012*processor + 0.009*edge + 0.009*activation + 0.009*brain + 0.008*field + 0.008*cell + 0.008*map + 0.007*potential + 0.007*group'),\n",
       " (6,\n",
       "  '0.017*image + 0.012*processor + 0.009*edge + 0.009*activation + 0.009*brain + 0.008*field + 0.008*cell + 0.008*map + 0.007*potential + 0.007*group'),\n",
       " (7,\n",
       "  '0.017*image + 0.012*processor + 0.009*edge + 0.009*activation + 0.009*brain + 0.008*field + 0.008*cell + 0.008*map + 0.007*potential + 0.007*group'),\n",
       " (8,\n",
       "  '0.017*image + 0.012*processor + 0.009*edge + 0.009*activation + 0.009*brain + 0.008*field + 0.008*cell + 0.008*map + 0.007*potential + 0.007*group'),\n",
       " (9,\n",
       "  '0.017*image + 0.012*processor + 0.009*edge + 0.009*activation + 0.009*brain + 0.008*field + 0.008*cell + 0.008*map + 0.007*potential + 0.007*group')]"
      ]
     },
     "execution_count": 30,
     "metadata": {},
     "output_type": "execute_result"
    }
   ],
   "source": [
    "model.show_topics()"
   ]
  },
  {
   "cell_type": "markdown",
   "metadata": {},
   "source": [
    "### LdaModel on the same data"
   ]
  },
  {
   "cell_type": "code",
   "execution_count": 26,
   "metadata": {
    "collapsed": true
   },
   "outputs": [],
   "source": [
    "model = LdaModel(corpus=small_corpus, num_topics=10, id2word=dictionary.id2token, alpha='symmetric', eta='symmetric')"
   ]
  },
  {
   "cell_type": "code",
   "execution_count": 27,
   "metadata": {
    "collapsed": false
   },
   "outputs": [
    {
     "data": {
      "text/plain": [
       "[(0,\n",
       "  '0.019*image + 0.017*field + 0.015*map + 0.012*brain + 0.012*scheme + 0.009*edge + 0.009*processor + 0.009*location + 0.009*gradient + 0.008*capacity'),\n",
       " (1,\n",
       "  '0.048*processor + 0.038*activation + 0.027*edge + 0.024*update + 0.014*operation + 0.010*image + 0.010*representation + 0.009*implementation + 0.008*address + 0.008*store'),\n",
       " (2,\n",
       "  '0.026*cell + 0.025*potential + 0.021*connectivity + 0.021*brain + 0.015*artificial + 0.014*synaptic + 0.012*architecture + 0.011*map + 0.011*image + 0.010*field'),\n",
       " (3,\n",
       "  '0.025*group + 0.023*processor + 0.018*activation + 0.018*matrix + 0.016*edge + 0.011*update + 0.010*image + 0.010*feedback + 0.008*noise + 0.008*scheme'),\n",
       " (4,\n",
       "  '0.019*image + 0.013*cell + 0.011*associative_memory + 0.010*recall + 0.010*noise + 0.010*scheme + 0.009*dynamic + 0.008*representation + 0.007*log + 0.007*phase'),\n",
       " (5,\n",
       "  '0.026*brain + 0.023*map + 0.017*potential + 0.015*cell + 0.013*field + 0.012*connectivity + 0.010*synaptic + 0.008*functional + 0.008*series + 0.008*image'),\n",
       " (6,\n",
       "  '0.036*image + 0.010*field + 0.010*recall + 0.009*cell + 0.009*noise + 0.009*log + 0.008*gradient + 0.008*matrix + 0.008*scale + 0.008*dimensional'),\n",
       " (7,\n",
       "  '0.018*image + 0.009*processor + 0.009*gradient + 0.009*cell + 0.007*phase + 0.007*noise + 0.007*edge + 0.007*activation + 0.006*node + 0.006*flow'),\n",
       " (8,\n",
       "  '0.016*group + 0.011*image + 0.010*feedback + 0.008*matrix + 0.007*edge + 0.007*gradient + 0.007*brain + 0.007*node + 0.006*processor + 0.006*dimensional'),\n",
       " (9,\n",
       "  '0.027*group + 0.016*node + 0.016*back + 0.014*propagation + 0.013*matrix + 0.012*feedback + 0.010*back_propagation + 0.009*th + 0.008*learning_algorithm + 0.008*probability')]"
      ]
     },
     "execution_count": 27,
     "metadata": {},
     "output_type": "execute_result"
    }
   ],
   "source": [
    "model.show_topics()"
   ]
  }
 ],
 "metadata": {
  "kernelspec": {
   "display_name": "Python 3",
   "language": "python",
   "name": "python3"
  },
  "language_info": {
   "codemirror_mode": {
    "name": "ipython",
    "version": 3
   },
   "file_extension": ".py",
   "mimetype": "text/x-python",
   "name": "python",
   "nbconvert_exporter": "python",
   "pygments_lexer": "ipython3",
   "version": "3.5.2"
  }
 },
 "nbformat": 4,
 "nbformat_minor": 1
}
