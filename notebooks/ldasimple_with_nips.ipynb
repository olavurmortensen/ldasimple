{
 "cells": [
  {
   "cell_type": "code",
   "execution_count": 1,
   "metadata": {
    "collapsed": false
   },
   "outputs": [
    {
     "data": {
      "application/javascript": [
       "// Run for table of contents.\n",
       "$.getScript('https://kmahelona.github.io/ipython_notebook_goodies/ipython_notebook_toc.js')\n",
       "\n",
       "// https://github.com/kmahelona/ipython_notebook_goodies"
      ],
      "text/plain": [
       "<IPython.core.display.Javascript object>"
      ]
     },
     "metadata": {},
     "output_type": "display_data"
    }
   ],
   "source": [
    "%%javascript\n",
    "// Run for table of contents.\n",
    "$.getScript('https://kmahelona.github.io/ipython_notebook_goodies/ipython_notebook_toc.js')\n",
    "\n",
    "// https://github.com/kmahelona/ipython_notebook_goodies"
   ]
  },
  {
   "cell_type": "markdown",
   "metadata": {},
   "source": [
    "# Testing \"ldasimple\" with NIPS data\n",
    "\n",
    "<h2 id=\"tocheading\">Table of Contents</h2>\n",
    "<div id=\"toc\"></div>\n"
   ]
  },
  {
   "cell_type": "code",
   "execution_count": 2,
   "metadata": {
    "collapsed": false
   },
   "outputs": [],
   "source": [
    "import numpy as np\n",
    "import matplotlib\n",
    "import matplotlib.pyplot as plt\n",
    "from nltk.tokenize import RegexpTokenizer\n",
    "from nltk.stem.wordnet import WordNetLemmatizer\n",
    "import gensim\n",
    "from gensim.models import Phrases\n",
    "from gensim.corpora import Dictionary\n",
    "from imp import reload\n",
    "\n",
    "import logging\n",
    "\n",
    "import ldasimple\n",
    "from ldasimple import BatchLda\n",
    "from ldasimple import batchlda\n",
    "from ldasimple import OnlineLda\n",
    "from ldasimple import onlinelda\n",
    "\n",
    "from gensim.models import LdaModel\n",
    "\n",
    "%matplotlib inline"
   ]
  },
  {
   "cell_type": "code",
   "execution_count": 3,
   "metadata": {
    "collapsed": false
   },
   "outputs": [],
   "source": [
    "# Configure logging.\n",
    "logger = logging.getLogger()\n",
    "fhandler = logging.FileHandler(filename='../../log_files/log.log', mode='a')\n",
    "formatter = logging.Formatter('%(asctime)s - %(name)s - %(levelname)s - %(message)s')\n",
    "fhandler.setFormatter(formatter)\n",
    "logger.addHandler(fhandler)\n",
    "logger.setLevel(logging.DEBUG)"
   ]
  },
  {
   "cell_type": "markdown",
   "metadata": {},
   "source": [
    "## Load and pre-process data"
   ]
  },
  {
   "cell_type": "code",
   "execution_count": 134,
   "metadata": {
    "collapsed": false
   },
   "outputs": [],
   "source": [
    "import os\n",
    "import re\n",
    "\n",
    "# Folder containing all NIPS papers.\n",
    "data_dir = '../../../data/nipstxt/'\n",
    "\n",
    "# Folders containin individual NIPS papers.\n",
    "#yrs = ['00', '01', '02', '03', '04', '05', '06', '07', '08', '09', '10', '11', '12']\n",
    "yrs = ['02']\n",
    "dirs = ['nips' + yr for yr in yrs]\n",
    "\n",
    "# Get all document texts and their corresponding IDs.\n",
    "docs = []\n",
    "doc_ids = []\n",
    "for yr_dir in dirs:\n",
    "    files = os.listdir(data_dir + yr_dir)  # List of filenames.\n",
    "    for filen in files:\n",
    "        # Get document ID.\n",
    "        (idx1, idx2) = re.search('[0-9]+', filen).span()  # Matches the indexes of the start end end of the ID.\n",
    "        doc_ids.append(yr_dir[4:] + '_' + str(int(filen[idx1:idx2])))\n",
    "        \n",
    "        # Read document text.\n",
    "        # Note: ignoring characters that cause encoding errors.\n",
    "        with open(data_dir + yr_dir + '/' + filen, errors='ignore', encoding='utf-8') as fid:\n",
    "            txt = fid.read()\n",
    "        docs.append(txt)"
   ]
  },
  {
   "cell_type": "code",
   "execution_count": 135,
   "metadata": {
    "collapsed": false
   },
   "outputs": [],
   "source": [
    "filenames = [data_dir + 'idx/a' + yr + '.txt' for yr in yrs]  # Using the years defined in previous cell.\n",
    "\n",
    "# Get all author names and their corresponding document IDs.\n",
    "authors_names = []\n",
    "author2doc = {}\n",
    "author_id = 0\n",
    "for yr in yrs:\n",
    "    filename = data_dir + 'idx/a' + yr + '.txt'\n",
    "    for line in open(filename, errors='ignore', encoding='utf-8'):\n",
    "        contents = re.split(',', line)\n",
    "        author_name = (contents[1] + contents[0]).strip()\n",
    "        ids = [c.strip() for c in contents[2:]]\n",
    "        authors_names.append(author_name)\n",
    "        author2doc[author_id] = [yr + '_' + id for id in ids]\n",
    "        author_id += 1"
   ]
  },
  {
   "cell_type": "code",
   "execution_count": 136,
   "metadata": {
    "collapsed": false
   },
   "outputs": [],
   "source": [
    "# Tokenize the documents.\n",
    "\n",
    "# Split the documents into tokens.\n",
    "tokenizer = RegexpTokenizer(r'\\w+')\n",
    "for idx in range(len(docs)):\n",
    "    docs[idx] = docs[idx].lower()  # Convert to lowercase.\n",
    "    docs[idx] = tokenizer.tokenize(docs[idx])  # Split into words.\n",
    "\n",
    "# Remove numbers, but not words that contain numbers.\n",
    "docs = [[token for token in doc if not token.isnumeric()] for doc in docs]\n",
    "\n",
    "# Remove words that are only one character.\n",
    "docs = [[token for token in doc if len(token) > 1] for doc in docs]"
   ]
  },
  {
   "cell_type": "code",
   "execution_count": 137,
   "metadata": {
    "collapsed": true
   },
   "outputs": [],
   "source": [
    "# Lemmatize the documents.\n",
    "\n",
    "# Lemmatize all words in documents.\n",
    "lemmatizer = WordNetLemmatizer()\n",
    "docs = [[lemmatizer.lemmatize(token) for token in doc] for doc in docs]"
   ]
  },
  {
   "cell_type": "code",
   "execution_count": 138,
   "metadata": {
    "collapsed": false
   },
   "outputs": [],
   "source": [
    "# Compute bigrams.\n",
    "\n",
    "# Add bigrams and trigrams to docs (only ones that appear 20 times or more).\n",
    "bigram = Phrases(docs, min_count=20)\n",
    "for idx in range(len(docs)):\n",
    "    for token in bigram[docs[idx]]:\n",
    "        if '_' in token:\n",
    "            # Token is a bigram, add to document.\n",
    "            docs[idx].append(token)"
   ]
  },
  {
   "cell_type": "code",
   "execution_count": 139,
   "metadata": {
    "collapsed": false
   },
   "outputs": [],
   "source": [
    "# Create a dictionary representation of the documents.\n",
    "dictionary = Dictionary(docs)"
   ]
  },
  {
   "cell_type": "code",
   "execution_count": 140,
   "metadata": {
    "collapsed": false
   },
   "outputs": [
    {
     "data": {
      "image/png": "[encoded data removed]",
      "text/plain": [
       "<matplotlib.figure.Figure at 0x7f67489370b8>"
      ]
     },
     "metadata": {},
     "output_type": "display_data"
    }
   ],
   "source": [
    "# Frequency distribution of words.\n",
    "\n",
    "one_doc = []\n",
    "for doc in docs:\n",
    "    one_doc.extend(doc)\n",
    "\n",
    "bow = dictionary.doc2bow(one_doc)\n",
    "word_freq = [cnt for _, cnt in bow]\n",
    "\n",
    "plt.plot(sorted(word_freq))\n",
    "plt.xlabel('Words')\n",
    "plt.ylabel('#Occurences')\n",
    "plt.title('Frequency distribution of words.\\nPower-law behaviour.')\n",
    "plt.show()"
   ]
  },
  {
   "cell_type": "code",
   "execution_count": 141,
   "metadata": {
    "collapsed": true
   },
   "outputs": [],
   "source": [
    "# Remove rare and common tokens.\n",
    "\n",
    "# Filter out words that occur too frequently or too rarely.\n",
    "max_freq = 0.5\n",
    "min_wordcount = 20\n",
    "dictionary.filter_extremes(no_below=min_wordcount, no_above=max_freq)\n",
    "\n",
    "dict0 = dictionary[0]  # This sort of \"initializes\" dictionary.id2token."
   ]
  },
  {
   "cell_type": "code",
   "execution_count": 142,
   "metadata": {
    "collapsed": true
   },
   "outputs": [],
   "source": [
    "# Vectorize data.\n",
    "\n",
    "# Bag-of-words representation of the documents.\n",
    "corpus = [dictionary.doc2bow(doc) for doc in docs]"
   ]
  },
  {
   "cell_type": "code",
   "execution_count": 143,
   "metadata": {
    "collapsed": false
   },
   "outputs": [
    {
     "name": "stdout",
     "output_type": "stream",
     "text": [
      "Number of unique tokens: 677\n",
      "Number of documents: 101\n"
     ]
    }
   ],
   "source": [
    "print('Number of unique tokens: %d' % len(dictionary))\n",
    "print('Number of documents: %d' % len(corpus))"
   ]
  },
  {
   "cell_type": "code",
   "execution_count": 144,
   "metadata": {
    "collapsed": true
   },
   "outputs": [],
   "source": [
    "input_corpus = corpus[:]"
   ]
  },
  {
   "cell_type": "code",
   "execution_count": 145,
   "metadata": {
    "collapsed": false
   },
   "outputs": [
    {
     "name": "stdout",
     "output_type": "stream",
     "text": [
      "phi is 10 x 677 x 10 (67700 elements)\n"
     ]
    }
   ],
   "source": [
    "print('phi is %d x %d x %d (%d elements)' %(len(small_corpus), len(dictionary.id2token), 10,\n",
    "                                            len(small_corpus) * len(dictionary.id2token) * 10))"
   ]
  },
  {
   "cell_type": "code",
   "execution_count": 152,
   "metadata": {
    "collapsed": false
   },
   "outputs": [],
   "source": [
    "reload(batchlda)\n",
    "BatchLda = batchlda.BatchLda"
   ]
  },
  {
   "cell_type": "code",
   "execution_count": 153,
   "metadata": {
    "collapsed": false
   },
   "outputs": [
    {
     "name": "stdout",
     "output_type": "stream",
     "text": [
      "CPU times: user 2min 4s, sys: 120 ms, total: 2min 5s\n",
      "Wall time: 2min 4s\n"
     ]
    }
   ],
   "source": [
    "%time model = BatchLda(corpus=input_corpus, num_topics=10, id2word=dictionary.id2token, \\\n",
    "            threshold=0.001, iterations=10, alpha=None, eta=None, \\\n",
    "            eval_every=0, random_state=0)"
   ]
  },
  {
   "cell_type": "code",
   "execution_count": 101,
   "metadata": {
    "collapsed": false
   },
   "outputs": [
    {
     "data": {
      "text/plain": [
       "[(0,\n",
       "  '0.032*training + 0.025*representation + 0.023*region + 0.021*feature + 0.020*decision + 0.019*node + 0.017*back + 0.014*propagation + 0.014*hidden + 0.013*back_propagation'),\n",
       " (1,\n",
       "  '0.031*image + 0.021*processor + 0.013*current + 0.012*matrix + 0.011*code + 0.010*device + 0.010*hopfield + 0.009*edge + 0.008*mapping + 0.008*scale'),\n",
       " (2,\n",
       "  '0.043*cell + 0.018*firing + 0.014*node + 0.014*temporal + 0.014*potential + 0.011*rate + 0.010*synaptic + 0.010*spatial + 0.010*frequency + 0.009*stimulus'),\n",
       " (3,\n",
       "  '0.029*dynamic + 0.025*matrix + 0.014*hopfield + 0.014*delay + 0.014*capacity + 0.012*sequence + 0.012*energy + 0.011*noise + 0.010*hidden + 0.009*minimum'),\n",
       " (4,\n",
       "  '0.028*hidden + 0.019*convergence + 0.012*synaptic + 0.010*hidden_unit + 0.009*vol + 0.008*procedure + 0.008*bit + 0.008*training + 0.007*channel + 0.007*array'),\n",
       " (5,\n",
       "  '0.047*cell + 0.030*stimulus + 0.022*activity + 0.021*field + 0.012*probability + 0.010*constraint + 0.010*synaptic + 0.009*produced + 0.009*potential + 0.009*produce'),\n",
       " (6,\n",
       "  '0.014*environment + 0.011*cell + 0.011*interaction + 0.010*position + 0.009*center + 0.008*move + 0.008*field + 0.008*knowledge + 0.007*training + 0.007*energy'),\n",
       " (7,\n",
       "  '0.024*code + 0.017*stored + 0.013*matrix + 0.012*scheme + 0.012*bit + 0.010*stage + 0.010*hopfield + 0.009*capacity + 0.009*interconnection + 0.008*sequence'),\n",
       " (8,\n",
       "  '0.026*activation + 0.019*associative_memory + 0.015*capacity + 0.013*cycle + 0.013*sequence + 0.012*cell + 0.011*address + 0.010*hopfield + 0.009*bit + 0.009*implementation'),\n",
       " (9,\n",
       "  '0.036*cell + 0.022*firing + 0.019*activity + 0.014*role + 0.011*principle + 0.010*active + 0.009*rate + 0.009*center + 0.009*probability + 0.008*potential')]"
      ]
     },
     "execution_count": 101,
     "metadata": {},
     "output_type": "execute_result"
    }
   ],
   "source": [
    "model.show_topics()"
   ]
  },
  {
   "cell_type": "markdown",
   "metadata": {},
   "source": [
    "## Online LDA simple"
   ]
  },
  {
   "cell_type": "code",
   "execution_count": 154,
   "metadata": {
    "collapsed": false
   },
   "outputs": [],
   "source": [
    "reload(onlinelda)\n",
    "OnlineLda = onlinelda.OnlineLda"
   ]
  },
  {
   "cell_type": "code",
   "execution_count": 155,
   "metadata": {
    "collapsed": false
   },
   "outputs": [
    {
     "name": "stdout",
     "output_type": "stream",
     "text": [
      "CPU times: user 2min 28s, sys: 60 ms, total: 2min 28s\n",
      "Wall time: 2min 28s\n"
     ]
    }
   ],
   "source": [
    "%time model = OnlineLda(corpus=input_corpus, num_topics=10, id2word=dictionary.id2token, \\\n",
    "            threshold=1e-10, iterations=100, alpha=None, eta=None, passes=1, \\\n",
    "            offset=1.0, decay=0.5, eval_every=0, random_state=0)"
   ]
  },
  {
   "cell_type": "markdown",
   "metadata": {},
   "source": [
    "### LdaModel on the same data"
   ]
  },
  {
   "cell_type": "code",
   "execution_count": 156,
   "metadata": {
    "collapsed": false
   },
   "outputs": [
    {
     "name": "stdout",
     "output_type": "stream",
     "text": [
      "CPU times: user 3.76 s, sys: 16 ms, total: 3.78 s\n",
      "Wall time: 3.79 s\n"
     ]
    }
   ],
   "source": [
    "%time model = LdaModel(corpus=input_corpus, num_topics=10, id2word=dictionary.id2token, \\\n",
    "                        alpha='symmetric', eta='symmetric', random_state=0, gamma_threshold=1e-30, \\\n",
    "                        iterations=100, eval_every=1, chunksize=1)"
   ]
  },
  {
   "cell_type": "code",
   "execution_count": 157,
   "metadata": {
    "collapsed": false
   },
   "outputs": [
    {
     "data": {
      "text/plain": [
       "-6.4719095715703547"
      ]
     },
     "execution_count": 157,
     "metadata": {},
     "output_type": "execute_result"
    }
   ],
   "source": [
    "corpus_words = sum(cnt for document in corpus for _, cnt in document)\n",
    "model.bound(corpus) / corpus_words"
   ]
  },
  {
   "cell_type": "code",
   "execution_count": 158,
   "metadata": {
    "collapsed": false
   },
   "outputs": [
    {
     "data": {
      "text/plain": [
       "[(0,\n",
       "  '0.058*recognition + 0.041*frequency + 0.026*hidden_layer + 0.025*hidden + 0.025*train + 0.024*trained + 0.022*four + 0.020*pp + 0.019*delay + 0.018*resulting'),\n",
       " (1,\n",
       "  '0.087*cell + 0.063*map + 0.054*threshold + 0.049*synapsis + 0.046*view + 0.042*brain + 0.041*et + 0.041*location + 0.040*synaptic + 0.038*et_al'),\n",
       " (2,\n",
       "  '0.035*optimal + 0.031*component + 0.027*matrix + 0.026*target + 0.022*estimate + 0.022*direction + 0.022*limit + 0.021*de + 0.020*positive + 0.020*sum'),\n",
       " (3,\n",
       "  '0.036*memory + 0.034*image + 0.027*noise + 0.018*vector + 0.015*address + 0.014*classification + 0.014*sample + 0.014*dimensional + 0.013*class + 0.012*maximum'),\n",
       " (4,\n",
       "  '0.069*control + 0.066*highly + 0.057*environment + 0.044*rather_than + 0.040*actually + 0.038*prior + 0.036*minimum + 0.033*modification + 0.030*normal + 0.028*square'),\n",
       " (5,\n",
       "  '0.034*node + 0.030*equation + 0.026*back + 0.026*propagation + 0.023*back_propagation + 0.021*hidden + 0.020*behavior + 0.016*standard + 0.016*line + 0.016*constraint'),\n",
       " (6,\n",
       "  '0.072*cost + 0.068*communication + 0.057*multiple + 0.057*generalization + 0.030*machine + 0.028*learned + 0.027*activation + 0.027*action + 0.026*tested + 0.024*might'),\n",
       " (7,\n",
       "  '0.050*map + 0.042*stimulus + 0.041*local + 0.034*visual + 0.031*response + 0.029*under + 0.024*spatial + 0.023*receptive + 0.022*up + 0.022*receptive_field'),\n",
       " (8,\n",
       "  '0.161*word + 0.104*across + 0.099*sensitive + 0.095*due + 0.092*due_to + 0.055*effort + 0.035*per + 0.025*complete + 0.021*current + 0.020*assumed'),\n",
       " (9,\n",
       "  '0.478*object + 0.226*analog + 0.098*recognition + 0.049*strategy + 0.036*pattern_recognition + 0.006*implementation + 0.005*goal + 0.002*simultaneously + 0.001*together + 0.001*improved')]"
      ]
     },
     "execution_count": 158,
     "metadata": {},
     "output_type": "execute_result"
    }
   ],
   "source": [
    "model.show_topics()"
   ]
  },
  {
   "cell_type": "code",
   "execution_count": null,
   "metadata": {
    "collapsed": true
   },
   "outputs": [],
   "source": []
  }
 ],
 "metadata": {
  "kernelspec": {
   "display_name": "Python 3",
   "language": "python",
   "name": "python3"
  },
  "language_info": {
   "codemirror_mode": {
    "name": "ipython",
    "version": 3
   },
   "file_extension": ".py",
   "mimetype": "text/x-python",
   "name": "python",
   "nbconvert_exporter": "python",
   "pygments_lexer": "ipython3",
   "version": "3.5.2"
  }
 },
 "nbformat": 4,
 "nbformat_minor": 1
}
